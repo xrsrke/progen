{
 "cells": [
  {
   "cell_type": "code",
   "execution_count": 1,
   "metadata": {},
   "outputs": [
    {
     "name": "stderr",
     "output_type": "stream",
     "text": [
      "/Users/education/DATA/projects/bio/progen/env/lib/python3.10/site-packages/tqdm/auto.py:22: TqdmWarning: IProgress not found. Please update jupyter and ipywidgets. See https://ipywidgets.readthedocs.io/en/stable/user_install.html\n",
      "  from .autonotebook import tqdm as notebook_tqdm\n"
     ]
    }
   ],
   "source": [
    "from transformers import AutoTokenizer\n",
    "from datasets import load_dataset"
   ]
  },
  {
   "cell_type": "code",
   "execution_count": 2,
   "metadata": {},
   "outputs": [
    {
     "name": "stderr",
     "output_type": "stream",
     "text": [
      "Using custom data configuration proteinea--deeploc-01074deb8c24e53d\n",
      "Found cached dataset csv (/Users/education/.cache/huggingface/datasets/proteinea___csv/proteinea--deeploc-01074deb8c24e53d/0.0.0/6b34fb8fcf56f7c8ba51dc895bfa2bfbe43546f190a60fcf74bb5e8afdcc2317)\n"
     ]
    }
   ],
   "source": [
    "protein_dataset = load_dataset(\"proteinea/deeploc\", split=\"train\")"
   ]
  },
  {
   "cell_type": "code",
   "execution_count": 3,
   "metadata": {},
   "outputs": [
    {
     "data": {
      "text/plain": [
       "{'input': 'MMKTLSSGNCTLNVPAKNSYRMVVLGASRVGKSSIVSRFLNGRFEDQYTPTIEDFHRKVYNIHGDMYQLDILDTSGNHPFPAMRRLSILTGDVFILVFSLDSRESFDEVKRLQKQILEVKSCLKNKTKEAAELPMVICGNKNDHSELCRQVPAMEAELLVSGDENCAYFEVSAKKNTNVNEMFYVLFSMAKLPHEMSPALHHKISVQYGDAFHPRPFCMRRTKVAGAYGMVSPFARRPSVNSDLKYIKAKVLREGQARERDKCSIQ',\n",
       " 'loc': 'Cell.membrane',\n",
       " 'membrane': 'M'}"
      ]
     },
     "execution_count": 3,
     "metadata": {},
     "output_type": "execute_result"
    }
   ],
   "source": [
    "protein_dataset[0]"
   ]
  },
  {
   "cell_type": "code",
   "execution_count": 4,
   "metadata": {},
   "outputs": [
    {
     "data": {
      "text/plain": [
       "'MQEEYLNFDLDPYKDGKYMLTVFRMEPSDGEDFVGEATEVAAESSTGSNLRVSTATAFSDDLDAIVYKVDEEKKLVWMACPWRIFDRGGNVQNILTYVIGNVFGMSTLKGLKALDCWFPKEMLEHYDGPATTIQDLKAYLGIKDRPVLGTIVKPKIGLKPDEFAEVCYQFWSGGGDFVKFDEPQADQDFCPMKEVVDAIRKAMDRAEEVTGDKKVMSFNISSADFATMKERAEYIKSVMKPGSYAFLVDGITAGWSAVQTARREWPEVFLHFHRAGHGALTRPENAFGCSVPFMTKFGRLAGASAMHTGTAGIGKMAGTIDEDITAAHQALFPKSEGDFFEQDWYGMKGMCPIASGGLNPVLLKPFADAVGTTDFITTMGGGVHSHPGGTAKGATALRQACDAWVAGIDLQEYAKDHEELAQAIEFYGGKFDYTRKYLT'"
      ]
     },
     "execution_count": 4,
     "metadata": {},
     "output_type": "execute_result"
    }
   ],
   "source": [
    "\"MQEEYLNFDLDPYKDGKYMLTVFRMEPSDGEDFVGEATEVAAESSTGSNLRVSTATAFSDDLDAIVYKVDEEKKLVWMACPWRIFDRGGNVQNILTYVIGNVFGMSTLKGLKALDCWFPKEMLEHYDGPATTIQDLKAYLGIKDRPVLGTIVKPKIGLKPDEFAEVCYQFWSGGGDFVKFDEPQADQDFCPMKEVVDAIRKAMDRAEEVTGDKKVMSFNISSADFATMKERAEYIKSVMKPGSYAFLVDGITAGWSAVQTARREWPEVFLHFHRAGHGALTRPENAFGCSVPFMTKFGRLAGASAMHTGTAGIGKMAGTIDEDITAAHQALFPKSEGDFFEQDWYGMKGMCPIASGGLNPVLLKPFADAVGTTDFITTMGGGVHSHPGGTAKGATALRQACDAWVAGIDLQEYAKDHEELAQAIEFYGGKFDYTRKYLT\""
   ]
  },
  {
   "cell_type": "code",
   "execution_count": null,
   "metadata": {},
   "outputs": [],
   "source": []
  }
 ],
 "metadata": {
  "kernelspec": {
   "display_name": "env",
   "language": "python",
   "name": "python3"
  },
  "language_info": {
   "codemirror_mode": {
    "name": "ipython",
    "version": 3
   },
   "file_extension": ".py",
   "mimetype": "text/x-python",
   "name": "python",
   "nbconvert_exporter": "python",
   "pygments_lexer": "ipython3",
   "version": "3.10.6"
  },
  "orig_nbformat": 4,
  "vscode": {
   "interpreter": {
    "hash": "515a855bfbfb6b849103da47e9388337a76eb4dd4b03f748f9beb704882a4da6"
   }
  }
 },
 "nbformat": 4,
 "nbformat_minor": 2
}
