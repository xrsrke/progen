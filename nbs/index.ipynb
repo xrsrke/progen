{
 "cells": [
  {
   "cell_type": "code",
   "execution_count": null,
   "metadata": {},
   "outputs": [],
   "source": [
    "#| hide\n",
    "from progen.core import *"
   ]
  },
  {
   "attachments": {},
   "cell_type": "markdown",
   "metadata": {},
   "source": [
    "# ProGen - 🚧 WORK IN PROGRESS 🚧\n",
    "\n",
    "> Designing new bacteria-killing proteins using language model"
   ]
  },
  {
   "attachments": {},
   "cell_type": "markdown",
   "metadata": {},
   "source": [
    "Paper: [Large language models generate functional protein sequences across diverse families ](https://www.nature.com/articles/s41587-022-01618-2)"
   ]
  },
  {
   "attachments": {},
   "cell_type": "markdown",
   "metadata": {},
   "source": [
    "I am currently working towards this paper. Check out my learning progress here: https://twitter.com/xariusrke/status/1621403313651728386"
   ]
  }
 ],
 "metadata": {
  "kernelspec": {
   "display_name": "Python 3 (ipykernel)",
   "language": "python",
   "name": "python3"
  }
 },
 "nbformat": 4,
 "nbformat_minor": 4
}
