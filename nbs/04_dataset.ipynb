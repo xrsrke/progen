{
 "cells": [
  {
   "cell_type": "code",
   "execution_count": null,
   "metadata": {},
   "outputs": [],
   "source": [
    "# | default_exp dataset"
   ]
  },
  {
   "attachments": {},
   "cell_type": "markdown",
   "metadata": {},
   "source": [
    "# Protein Dataset\n",
    "\n",
    "> Protein Dataset"
   ]
  },
  {
   "cell_type": "code",
   "execution_count": null,
   "metadata": {},
   "outputs": [],
   "source": [
    "# | hide\n",
    "from nbdev.showdoc import *"
   ]
  },
  {
   "cell_type": "code",
   "execution_count": null,
   "metadata": {},
   "outputs": [],
   "source": [
    "#| hide\n",
    "import nbdev; nbdev.nbdev_export()"
   ]
  },
  {
   "cell_type": "code",
   "execution_count": null,
   "metadata": {},
   "outputs": [],
   "source": [
    "#| export\n",
    "import re\n",
    "from typing import Tuple, Callable, TypedDict, List\n",
    "\n",
    "import torch\n",
    "from torch.utils.data import Dataset"
   ]
  },
  {
   "cell_type": "code",
   "execution_count": null,
   "metadata": {},
   "outputs": [],
   "source": [
    "#| export\n",
    "def extract_property_tag(name: str) -> Callable:\n",
    "    def inner(sequence):\n",
    "        pattern = f\"{name}=(.+?) \"\n",
    "        match = re.search(pattern, sequence)\n",
    "        if match:\n",
    "            return match.group(1)\n",
    "        else:\n",
    "            return None\n",
    "    return inner"
   ]
  },
  {
   "cell_type": "code",
   "execution_count": null,
   "metadata": {},
   "outputs": [],
   "source": [
    "#| export\n",
    "class ProteinSequence(TypedDict):\n",
    "    id: str\n",
    "    seq: str\n",
    "    desc: str"
   ]
  },
  {
   "cell_type": "code",
   "execution_count": null,
   "metadata": {},
   "outputs": [],
   "source": [
    "#| export\n",
    "class ProteinDataset(Dataset):\n",
    "    def __init__(self, data: List[ProteinSequence], tokenizer: Callable, tag_extractor: Callable):\n",
    "        xs = []\n",
    "        ys = []\n",
    "        \n",
    "        for item in data:\n",
    "            xs.append(tag_extractor(item[\"desc\"]))\n",
    "            ys.append(item[\"seq\"])\n",
    "        \n",
    "        encoded_ys = tokenizer.encode_batch(ys)\n",
    "        encoded_ys = [torch.tensor(e.ids) for e in encoded_ys]\n",
    "        \n",
    "        self.xs = xs\n",
    "        self.ys = encoded_ys\n",
    "\n",
    "    def __len__(self) -> int:\n",
    "        return len(self.xs)\n",
    "\n",
    "    def __getitem__(self, idx: int) -> Tuple[str, str]:\n",
    "        return self.xs[idx], self.ys[idx]"
   ]
  }
 ],
 "metadata": {
  "kernelspec": {
   "display_name": "env",
   "language": "python",
   "name": "python3"
  }
 },
 "nbformat": 4,
 "nbformat_minor": 2
}
