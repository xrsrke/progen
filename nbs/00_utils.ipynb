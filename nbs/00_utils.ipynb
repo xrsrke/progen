{
 "cells": [
  {
   "cell_type": "code",
   "execution_count": null,
   "metadata": {},
   "outputs": [],
   "source": [
    "# | default_exp utils"
   ]
  },
  {
   "attachments": {},
   "cell_type": "markdown",
   "metadata": {},
   "source": [
    "# Utils\n",
    "\n",
    "> Utility functions"
   ]
  },
  {
   "cell_type": "code",
   "execution_count": null,
   "metadata": {},
   "outputs": [],
   "source": [
    "# | hide\n",
    "from nbdev.showdoc import *"
   ]
  },
  {
   "cell_type": "code",
   "execution_count": null,
   "metadata": {},
   "outputs": [],
   "source": [
    "#| hide\n",
    "import nbdev; nbdev.nbdev_export()"
   ]
  },
  {
   "cell_type": "code",
   "execution_count": null,
   "metadata": {},
   "outputs": [],
   "source": [
    "#| export\n",
    "import yaml\n",
    "from typing import Dict\n",
    "\n",
    "from tqdm import tqdm\n",
    "from Bio import SeqIO"
   ]
  },
  {
   "cell_type": "code",
   "execution_count": null,
   "metadata": {},
   "outputs": [],
   "source": [
    "#| export\n",
    "def yaml2dict(path: str) -> dict:\n",
    "    with open(path, 'r') as f:\n",
    "        data = yaml.safe_load(f)\n",
    "    return data"
   ]
  },
  {
   "cell_type": "code",
   "execution_count": null,
   "metadata": {},
   "outputs": [],
   "source": [
    "#| export\n",
    "def fasta2dict(path: str) -> Dict:\n",
    "    data = []\n",
    "    for record in tqdm(SeqIO.parse(path, \"fasta\")):\n",
    "        item = {\n",
    "            \"id\": record.id,\n",
    "            \"desc\": record.description,\n",
    "            \"seq\": str(record.seq)\n",
    "        }\n",
    "        data.append(item)\n",
    "    \n",
    "    return data"
   ]
  },
  {
   "attachments": {},
   "cell_type": "markdown",
   "metadata": {},
   "source": [
    "### Checkpoint"
   ]
  },
  {
   "cell_type": "code",
   "execution_count": null,
   "metadata": {},
   "outputs": [],
   "source": [
    "#| export\n",
    "class ModelCheckpoint:\n",
    "    SMALL = \"https://storage.googleapis.com/sfr-progen-research/checkpoints/progen2-small.tar.gz\"\n",
    "    MEDIUM = \"https://storage.googleapis.com/sfr-progen-research/checkpoints/progen2-medium.tar.gz\"\n",
    "    LARGE = \"https://storage.googleapis.com/sfr-progen-research/checkpoints/progen2-large.tar.gz\""
   ]
  },
  {
   "cell_type": "code",
   "execution_count": null,
   "metadata": {},
   "outputs": [],
   "source": [
    "#| export\n",
    "def download_checkpoint(checkpoint_url: str, path: str = \"../data\") -> None:\n",
    "    \"\"\"Download a checkpoint from a URL to a local path.\n",
    "\n",
    "    Args:\n",
    "        checkpoint_url (str): URL of the checkpoint.\n",
    "        path (str): Local path to save the checkpoint.\n",
    "    \"\"\"\n",
    "    import requests\n",
    "\n",
    "    response = requests.get(checkpoint_url, stream=True)\n",
    "    total_size_in_bytes = int(response.headers.get(\"content-length\", 0))\n",
    "    block_size = 1024  # 1 Kibibyte\n",
    "    progress_bar = tqdm(total=total_size_in_bytes, unit=\"iB\", unit_scale=True)\n",
    "    with open(path, \"wb\") as file:\n",
    "        for data in response.iter_content(block_size):\n",
    "            progress_bar.update(len(data))\n",
    "            file.write(data)\n",
    "    progress_bar.close()\n",
    "    if total_size_in_bytes != 0 and progress_bar.n != total_size_in_bytes:\n",
    "        print(\"ERROR, something went wrong\")"
   ]
  }
 ],
 "metadata": {
  "kernelspec": {
   "display_name": "env",
   "language": "python",
   "name": "python3"
  }
 },
 "nbformat": 4,
 "nbformat_minor": 2
}
